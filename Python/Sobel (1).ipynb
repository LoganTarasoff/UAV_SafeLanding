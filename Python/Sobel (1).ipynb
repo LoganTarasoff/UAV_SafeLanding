{
 "cells": [
  {
   "cell_type": "code",
   "execution_count": 112,
   "id": "b6da61d5",
   "metadata": {},
   "outputs": [
    {
     "data": {
      "text/plain": [
       "0.30224609375"
      ]
     },
     "execution_count": 112,
     "metadata": {},
     "output_type": "execute_result"
    }
   ],
   "source": [
    "from PIL import Image, ImageFilter\n",
    "import matplotlib.pyplot as plt\n",
    "import numpy as np\n",
    "\n",
    "image = Image.open('Unsafe1.png')\n",
    "image = image.convert('L')\n",
    "image = image.resize((64,64))\n",
    "\n",
    "sobel = image.filter(ImageFilter.Kernel((3, 3), (-1, 0, 1, -2, 0, 2, -1, 0, 1), 1, 0))\n",
    "\n",
    "img = np.array(sobel)\n",
    "\n",
    "count = np.count_nonzero(img >= 56)\n",
    "edge_score = count/4096\n",
    "edge_score"
   ]
  },
  {
   "cell_type": "code",
   "execution_count": null,
   "id": "c4aaac31",
   "metadata": {},
   "outputs": [],
   "source": []
  }
 ],
 "metadata": {
  "kernelspec": {
   "display_name": "Python 3",
   "language": "python",
   "name": "python3"
  },
  "language_info": {
   "codemirror_mode": {
    "name": "ipython",
    "version": 3
   },
   "file_extension": ".py",
   "mimetype": "text/x-python",
   "name": "python",
   "nbconvert_exporter": "python",
   "pygments_lexer": "ipython3",
   "version": "3.9.5"
  }
 },
 "nbformat": 4,
 "nbformat_minor": 5
}
